{
  "nbformat": 4,
  "nbformat_minor": 0,
  "metadata": {
    "colab": {
      "provenance": []
    },
    "kernelspec": {
      "name": "python3",
      "display_name": "Python 3"
    },
    "language_info": {
      "name": "python"
    }
  },
  "cells": [
    {
      "cell_type": "code",
      "execution_count": 34,
      "metadata": {
        "id": "r7Lpl1Wz8uvI"
      },
      "outputs": [],
      "source": [
        "import numpy as np"
      ]
    },
    {
      "cell_type": "code",
      "source": [
        "# Manually created array: [Store ID, Sales, Customers, Inventory, Returns]\n",
        "retail_data = np.array([\n",
        "    [1, 25000, 300, 1200, 10],\n",
        "    [2, 32000, 450, 1500, 15],\n",
        "    [3, 28000, 380, 1100, 8],\n",
        "    [4, 41000, 500, 1600, 20],\n",
        "    [5, 35000, 420, 1400, 12],\n",
        "    [6, 27000, 360, 1300, 9],\n",
        "    [7, 39000, 480, 1700, 18],\n",
        "    [8, 30000, 400, 1250, 14],\n",
        "    [9, 45000, 550, 1800, 25],\n",
        "    [10, 33000, 410, 1450, 11]\n",
        "])\n",
        "\n",
        "print(retail_data)"
      ],
      "metadata": {
        "colab": {
          "base_uri": "https://localhost:8080/"
        },
        "id": "_2Hg8fI69Cdw",
        "outputId": "336579a9-9b35-48ac-9617-b5737db375a1"
      },
      "execution_count": 35,
      "outputs": [
        {
          "output_type": "stream",
          "name": "stdout",
          "text": [
            "[[    1 25000   300  1200    10]\n",
            " [    2 32000   450  1500    15]\n",
            " [    3 28000   380  1100     8]\n",
            " [    4 41000   500  1600    20]\n",
            " [    5 35000   420  1400    12]\n",
            " [    6 27000   360  1300     9]\n",
            " [    7 39000   480  1700    18]\n",
            " [    8 30000   400  1250    14]\n",
            " [    9 45000   550  1800    25]\n",
            " [   10 33000   410  1450    11]]\n"
          ]
        }
      ]
    },
    {
      "cell_type": "code",
      "source": [
        "store_ids = retail_data[:,0]\n",
        "sales = retail_data[:,1]\n",
        "customers = retail_data[:,2]\n",
        "inventory = retail_data[:,3]\n",
        "returns = retail_data[:,4]"
      ],
      "metadata": {
        "id": "jti7xFP8uTUw"
      },
      "execution_count": 36,
      "outputs": []
    },
    {
      "cell_type": "markdown",
      "source": [
        "## Basic Performance Analysis"
      ],
      "metadata": {
        "id": "4I8s540I-rkh"
      }
    },
    {
      "cell_type": "code",
      "source": [
        "#1\n",
        "total_revenue = sales.sum()\n",
        "print(\"Total Revenue:\", total_revenue)"
      ],
      "metadata": {
        "colab": {
          "base_uri": "https://localhost:8080/"
        },
        "id": "qdQJ8oAv9Miw",
        "outputId": "b4338cf3-075d-4ef1-fd6f-47b593b1384b"
      },
      "execution_count": 37,
      "outputs": [
        {
          "output_type": "stream",
          "name": "stdout",
          "text": [
            "Total Revenue: 335000\n"
          ]
        }
      ]
    },
    {
      "cell_type": "code",
      "source": [
        "#2\n",
        "max_sales = sales.argmax()\n",
        "print(\"Store ID with Maximum Sales:\", store_ids[max_sales])"
      ],
      "metadata": {
        "colab": {
          "base_uri": "https://localhost:8080/"
        },
        "id": "6E_2Cf3u9rrV",
        "outputId": "a1aa7f20-a9fb-46fc-ea4a-6fb1c066db5e"
      },
      "execution_count": 38,
      "outputs": [
        {
          "output_type": "stream",
          "name": "stdout",
          "text": [
            "Store ID with Maximum Sales: 9\n"
          ]
        }
      ]
    },
    {
      "cell_type": "code",
      "source": [
        "#3\n",
        "min_sales = sales.argmin()\n",
        "print(\"Store ID with Minimum Sales:\", store_ids[min_sales])"
      ],
      "metadata": {
        "colab": {
          "base_uri": "https://localhost:8080/"
        },
        "id": "q4mVIVIE-EzA",
        "outputId": "d74ce3ab-46a7-4c24-9bc1-375a3219fec4"
      },
      "execution_count": 39,
      "outputs": [
        {
          "output_type": "stream",
          "name": "stdout",
          "text": [
            "Store ID with Minimum Sales: 1\n"
          ]
        }
      ]
    },
    {
      "cell_type": "code",
      "source": [
        "#4\n",
        "avg_sales = sales.mean()\n",
        "print(\"Average Sales:\", avg_sales)"
      ],
      "metadata": {
        "colab": {
          "base_uri": "https://localhost:8080/"
        },
        "id": "X8BYsWkC-Nm1",
        "outputId": "e7c4cbbb-b3da-4353-aff2-4a81f9545c73"
      },
      "execution_count": 40,
      "outputs": [
        {
          "output_type": "stream",
          "name": "stdout",
          "text": [
            "Average Sales: 33500.0\n"
          ]
        }
      ]
    },
    {
      "cell_type": "code",
      "source": [
        "#5\n",
        "stores_above_35k = np.sum(sales > 35000)\n",
        "print(\"Number of stores with sales above ₹35,000:\", stores_above_35k)"
      ],
      "metadata": {
        "colab": {
          "base_uri": "https://localhost:8080/"
        },
        "id": "g86_GxVm9gEc",
        "outputId": "f2e10820-ecc8-4996-d345-32b684ab6a8f"
      },
      "execution_count": 41,
      "outputs": [
        {
          "output_type": "stream",
          "name": "stdout",
          "text": [
            "Number of stores with sales above ₹35,000: 3\n"
          ]
        }
      ]
    },
    {
      "cell_type": "markdown",
      "source": [
        "## Customer Insights"
      ],
      "metadata": {
        "id": "I6jsjIJd_CCv"
      }
    },
    {
      "cell_type": "code",
      "metadata": {
        "colab": {
          "base_uri": "https://localhost:8080/"
        },
        "id": "46deff45",
        "outputId": "58a7815e-cf26-4c39-c0f4-592216818229"
      },
      "source": [
        "#6\n",
        "max_customers_index = np.argmax(retail_data[:, 2])\n",
        "store_with_max_customers = retail_data[max_customers_index, 0]\n",
        "print(\"Store ID with Maximum Customers:\", store_with_max_customers)"
      ],
      "execution_count": 42,
      "outputs": [
        {
          "output_type": "stream",
          "name": "stdout",
          "text": [
            "Store ID with Maximum Customers: 9\n"
          ]
        }
      ]
    },
    {
      "cell_type": "code",
      "metadata": {
        "colab": {
          "base_uri": "https://localhost:8080/"
        },
        "id": "630d5948",
        "outputId": "efce03ac-ef17-4e29-8d22-a541caa685b7"
      },
      "source": [
        "#7\n",
        "average_customers = np.mean(retail_data[:, 2])\n",
        "print(\"Average number of customers per store:\", average_customers)"
      ],
      "execution_count": 43,
      "outputs": [
        {
          "output_type": "stream",
          "name": "stdout",
          "text": [
            "Average number of customers per store: 425.0\n"
          ]
        }
      ]
    },
    {
      "cell_type": "code",
      "source": [
        "#8\n",
        "store_more_than_450_customers = np.sum(retail_data[:, 2] >= 450)\n",
        "print(\"Number of stores with more than 450 customers:\", store_more_than_450_customers)"
      ],
      "metadata": {
        "colab": {
          "base_uri": "https://localhost:8080/"
        },
        "id": "-DWCWVOxBONt",
        "outputId": "256f939f-a24b-4879-ed5a-a68570cd6544"
      },
      "execution_count": 44,
      "outputs": [
        {
          "output_type": "stream",
          "name": "stdout",
          "text": [
            "Number of stores with more than 450 customers: 4\n"
          ]
        }
      ]
    },
    {
      "cell_type": "code",
      "source": [
        "#9\n",
        "min_customers_index = np.argmin(retail_data[:, 2])\n",
        "store_with_min_customers = retail_data[min_customers_index, 0]\n",
        "print(\"Store ID with Min Customers:\", store_with_min_customers)"
      ],
      "metadata": {
        "colab": {
          "base_uri": "https://localhost:8080/"
        },
        "id": "OGZaZEQEBX-j",
        "outputId": "55c732aa-e679-4ca6-bc34-0ccaec448256"
      },
      "execution_count": 62,
      "outputs": [
        {
          "output_type": "stream",
          "name": "stdout",
          "text": [
            "Store ID with Min Customers: 1\n"
          ]
        }
      ]
    },
    {
      "cell_type": "code",
      "source": [],
      "metadata": {
        "id": "tF_F1xnvB8CN"
      },
      "execution_count": 45,
      "outputs": []
    },
    {
      "cell_type": "markdown",
      "source": [
        "## Inventory & Returns Analysis"
      ],
      "metadata": {
        "id": "32_VCNjSB8fW"
      }
    },
    {
      "cell_type": "code",
      "source": [
        "#11\n",
        "total_inventory = np.sum(retail_data[:, 3])\n",
        "print(\"Total Inventory:\", total_inventory)"
      ],
      "metadata": {
        "colab": {
          "base_uri": "https://localhost:8080/"
        },
        "id": "7_H28InZCAvO",
        "outputId": "d3ea2e23-d3de-430c-80bb-f30c678056cd"
      },
      "execution_count": 46,
      "outputs": [
        {
          "output_type": "stream",
          "name": "stdout",
          "text": [
            "Total Inventory: 14300\n"
          ]
        }
      ]
    },
    {
      "cell_type": "code",
      "source": [
        "#12\n",
        "max_inventory = np.argmax(retail_data[:, 3])\n",
        "store_with_max_inventory = retail_data[max_inventory, 0]\n",
        "print(\"Store ID with Maximum Inventory:\", store_with_max_inventory)"
      ],
      "metadata": {
        "colab": {
          "base_uri": "https://localhost:8080/"
        },
        "id": "PYEwtUAbCD2V",
        "outputId": "d7f62c24-2547-4136-9cd2-b52ef980b722"
      },
      "execution_count": 47,
      "outputs": [
        {
          "output_type": "stream",
          "name": "stdout",
          "text": [
            "Store ID with Maximum Inventory: 9\n"
          ]
        }
      ]
    },
    {
      "cell_type": "code",
      "metadata": {
        "colab": {
          "base_uri": "https://localhost:8080/"
        },
        "id": "5d26b305",
        "outputId": "f29e1187-ac53-4b1d-a430-761e8189a36f"
      },
      "source": [
        "#13\n",
        "stores_less_than_1300_inventory = np.sum(retail_data[:, 3] < 1300)\n",
        "print(\"Number of stores with inventory less than 1300 units:\", stores_less_than_1300_inventory)"
      ],
      "execution_count": 48,
      "outputs": [
        {
          "output_type": "stream",
          "name": "stdout",
          "text": [
            "Number of stores with inventory less than 1300 units: 3\n"
          ]
        }
      ]
    },
    {
      "cell_type": "code",
      "metadata": {
        "colab": {
          "base_uri": "https://localhost:8080/"
        },
        "id": "8407deee",
        "outputId": "37389517-4f6b-4189-cca6-5b07a2255e93"
      },
      "source": [
        "#14\n",
        "return_rates = retail_data[:, 4] / retail_data[:, 3]\n",
        "max_return_rate_index = np.argmax(return_rates)\n",
        "store_with_max_return_rate = retail_data[max_return_rate_index, 0]\n",
        "print(\"Store ID with the highest return rate:\", store_with_max_return_rate)"
      ],
      "execution_count": 74,
      "outputs": [
        {
          "output_type": "stream",
          "name": "stdout",
          "text": [
            "Store ID with the highest return rate: 9\n",
            "\n",
            "Stores with a high return rate (above average) that might require quality checks:\n",
            "[2 4 7 8 9]\n"
          ]
        }
      ]
    },
    {
      "cell_type": "code",
      "source": [
        "#15\n",
        "stores_more_than_15_units_mask = retail_data[:, 4] > 15\n",
        "stores_more_than_15_units = retail_data[stores_more_than_15_units_mask]\n",
        "\n",
        "print(\"Number of stores with returns greater than 15 units:\", np.sum(stores_more_than_15_units_mask))\n",
        "print(\"Stores with returns greater than 15 units:\", stores_more_than_15_units[:, 0])"
      ],
      "metadata": {
        "colab": {
          "base_uri": "https://localhost:8080/"
        },
        "id": "epyhDF0xEAMU",
        "outputId": "5ef949e2-f040-476a-c448-b026ebc79459"
      },
      "execution_count": 63,
      "outputs": [
        {
          "output_type": "stream",
          "name": "stdout",
          "text": [
            "Number of stores with returns greater than 15 units: 3\n",
            "Stores with returns greater than 15 units: [4 7 9]\n"
          ]
        }
      ]
    },
    {
      "cell_type": "markdown",
      "source": [
        "## Sales & Customer Correlation"
      ],
      "metadata": {
        "id": "_WnwoslSGL9C"
      }
    },
    {
      "cell_type": "code",
      "metadata": {
        "colab": {
          "base_uri": "https://localhost:8080/"
        },
        "id": "7b241f44",
        "outputId": "17289eb1-1ce7-4b22-dafa-6a6e5d0c8b43"
      },
      "source": [
        "#16\n",
        "correlation_sales_customers = np.corrcoef(retail_data[:, 1], retail_data[:, 2])[0, 1]\n",
        "print(\"Correlation between Sales and Customers:\", correlation_sales_customers)\n",
        "\n",
        "if correlation_sales_customers > 0:\n",
        "    print(\"There is a positive correlation between sales and customers.\")\n",
        "else:\n",
        "    print(\"There is no linear correlation between sales and customers.\")"
      ],
      "execution_count": 51,
      "outputs": [
        {
          "output_type": "stream",
          "name": "stdout",
          "text": [
            "Correlation between Sales and Customers: 0.9593636912502479\n",
            "There is a positive correlation between sales and customers.\n"
          ]
        }
      ]
    },
    {
      "cell_type": "code",
      "metadata": {
        "colab": {
          "base_uri": "https://localhost:8080/"
        },
        "id": "0ea5f8bd",
        "outputId": "5b0e24da-98bd-49b2-ff79-9e3f2298421d"
      },
      "source": [
        "#17\n",
        "average_customers = np.mean(retail_data[:, 2])\n",
        "average_sales = np.mean(retail_data[:, 1])\n",
        "\n",
        "high_customers_low_sales_stores = retail_data[(retail_data[:, 2] > average_customers) & (retail_data[:, 1] < average_sales)]\n",
        "\n",
        "if high_customers_low_sales_stores.shape[0] > 0:\n",
        "    print(\"Stores with high customer visits and low sales:\")\n",
        "    print(high_customers_low_sales_stores)\n",
        "else:\n",
        "    print(\"No stores found with high customer visits and low sales based on average thresholds.\")"
      ],
      "execution_count": 52,
      "outputs": [
        {
          "output_type": "stream",
          "name": "stdout",
          "text": [
            "Stores with high customer visits and low sales:\n",
            "[[    2 32000   450  1500    15]]\n"
          ]
        }
      ]
    },
    {
      "cell_type": "code",
      "source": [
        "#18\n",
        "average_customers = np.mean(retail_data[:, 2])\n",
        "average_sales = np.mean(retail_data[:, 1])\n",
        "\n",
        "low_customers_high_sales_stores = retail_data[(retail_data[:, 2] < average_customers) & (retail_data[:, 1] > average_sales)]\n",
        "\n",
        "if low_customers_high_sales_stores.shape[0] > 0:\n",
        "    print(\"Stores with low customer visits and high sales:\")\n",
        "    print(low_customers_high_sales_stores)\n",
        "else:\n",
        "    print(\"No stores found with low customer visits and high sales based on average thresholds.\")"
      ],
      "metadata": {
        "colab": {
          "base_uri": "https://localhost:8080/"
        },
        "id": "ohIKZU5GLPpU",
        "outputId": "ad5f8752-847d-4bfa-bf8e-1dd800c3ba6d"
      },
      "execution_count": 53,
      "outputs": [
        {
          "output_type": "stream",
          "name": "stdout",
          "text": [
            "Stores with low customer visits and high sales:\n",
            "[[    5 35000   420  1400    12]]\n"
          ]
        }
      ]
    },
    {
      "cell_type": "code",
      "metadata": {
        "colab": {
          "base_uri": "https://localhost:8080/"
        },
        "id": "fe55ef77",
        "outputId": "9ab1e5c1-cacf-4fab-96eb-eec0d58f08de"
      },
      "source": [
        "#19\n",
        "sales_per_customer_per_store = retail_data[:, 1] / retail_data[:, 2]\n",
        "stores_above_90_sales_per_customer = np.sum(sales_per_customer_per_store > 90)\n",
        "print(\"Number of stores with sales per customer above ₹90:\", stores_above_90_sales_per_customer)"
      ],
      "execution_count": 61,
      "outputs": [
        {
          "output_type": "stream",
          "name": "stdout",
          "text": [
            "Number of stores with sales per customer above ₹90: 0\n"
          ]
        }
      ]
    },
    {
      "cell_type": "code",
      "source": [
        "#20\n",
        "average_customers = np.mean(retail_data[:, 2])\n",
        "average_inventory = np.mean(retail_data[:, 3])\n",
        "\n",
        "benefit_Customer_camp = retail_data[(retail_data[:, 2] < average_customers) & (retail_data[:, 3] > average_inventory)]\n",
        "\n",
        "if benefit_Customer_camp.shape[0] > 0:\n",
        "    print(\"Stores that could benefit from customer acquisition campaigns (low customers, high inventory):\")\n",
        "    print(benefit_Customer_camp)\n",
        "else:\n",
        "    print(\"No stores found that meet the criteria for benefiting from customer acquisition campaigns based on average thresholds.\")"
      ],
      "metadata": {
        "colab": {
          "base_uri": "https://localhost:8080/"
        },
        "id": "sK34gOYOTrxQ",
        "outputId": "2bbec053-fd3a-4d9c-f820-ce1f68f87525"
      },
      "execution_count": 65,
      "outputs": [
        {
          "output_type": "stream",
          "name": "stdout",
          "text": [
            "Stores that could benefit from customer acquisition campaigns (low customers, high inventory):\n",
            "[[   10 33000   410  1450    11]]\n"
          ]
        }
      ]
    },
    {
      "cell_type": "markdown",
      "source": [
        "## Profitability & Growth\n"
      ],
      "metadata": {
        "id": "jZpaX8QIVC1h"
      }
    },
    {
      "cell_type": "code",
      "metadata": {
        "colab": {
          "base_uri": "https://localhost:8080/"
        },
        "id": "550a0af1",
        "outputId": "3d3cacde-14e6-4bb0-cf56-e65a9e54b133"
      },
      "source": [
        "#21\n",
        "profit_per_store = retail_data[:, 1] * 0.20\n",
        "print(\"Profit per store:\", profit_per_store)"
      ],
      "execution_count": 56,
      "outputs": [
        {
          "output_type": "stream",
          "name": "stdout",
          "text": [
            "Profit per store: [5000. 6400. 5600. 8200. 7000. 5400. 7800. 6000. 9000. 6600.]\n"
          ]
        }
      ]
    },
    {
      "cell_type": "code",
      "metadata": {
        "colab": {
          "base_uri": "https://localhost:8080/"
        },
        "id": "bad6ae8d",
        "outputId": "b277f305-6f2f-43a4-9526-08416d9cc01f"
      },
      "source": [
        "#22\n",
        "max_profit_index = np.argmax(profit_per_store)\n",
        "store_with_max_profit = retail_data[max_profit_index, 0]\n",
        "print(\"Store ID with the highest profit:\", store_with_max_profit)\n",
        "print(\"Details of the store with the highest profit:\")\n",
        "print(retail_data[max_profit_index])"
      ],
      "execution_count": 66,
      "outputs": [
        {
          "output_type": "stream",
          "name": "stdout",
          "text": [
            "Store ID with the highest profit: 9\n",
            "Details of the store with the highest profit:\n",
            "[    9 45000   550  1800    25]\n"
          ]
        }
      ]
    },
    {
      "cell_type": "code",
      "source": [
        "#23\n",
        "min_profit_index = np.argmin(profit_per_store)\n",
        "store_with_min_profit = retail_data[min_profit_index, 0]\n",
        "print(\"Store ID with the highest profit:\", store_with_min_profit)\n",
        "print(\"Details of the store with the highest profit:\")\n",
        "print(retail_data[min_profit_index])"
      ],
      "metadata": {
        "colab": {
          "base_uri": "https://localhost:8080/"
        },
        "id": "Rz938s1CBF0e",
        "outputId": "7c26a138-c16f-4bf0-cffe-486aa7d5d853"
      },
      "execution_count": 71,
      "outputs": [
        {
          "output_type": "stream",
          "name": "stdout",
          "text": [
            "Store ID with the highest profit: 1\n",
            "Details of the store with the highest profit:\n",
            "[    1 25000   300  1200    10]\n"
          ]
        }
      ]
    },
    {
      "cell_type": "code",
      "metadata": {
        "colab": {
          "base_uri": "https://localhost:8080/"
        },
        "id": "780fc7b2",
        "outputId": "957e3053-bd00-4b0b-b16f-9365ab94e72c"
      },
      "source": [
        "#24\n",
        "new_sales = retail_data[:, 1] * 1.10\n",
        "print(\"New sales figures (with 10% increase):\", new_sales)"
      ],
      "execution_count": 59,
      "outputs": [
        {
          "output_type": "stream",
          "name": "stdout",
          "text": [
            "New sales figures (with 10% increase): [27500. 35200. 30800. 45100. 38500. 29700. 42900. 33000. 49500. 36300.]\n"
          ]
        }
      ]
    },
    {
      "cell_type": "code",
      "metadata": {
        "colab": {
          "base_uri": "https://localhost:8080/"
        },
        "id": "5a56c2cb",
        "outputId": "fcbc1442-2ef7-4250-ee4e-aca4d10c3f6d"
      },
      "source": [
        "#25\n",
        "current_total_profit = np.sum(profit_per_store)\n",
        "print(\"Current Total Profit:\", current_total_profit)\n",
        "\n",
        "new_total_profit = np.sum(new_sales * 0.20) # Assuming profit margin remains 20%\n",
        "print(\"New Total Profit (with 10% sales increase):\", new_total_profit)\n",
        "\n",
        "profit_change = new_total_profit - current_total_profit\n",
        "print(\"Change in Total Profit:\", profit_change)"
      ],
      "execution_count": 60,
      "outputs": [
        {
          "output_type": "stream",
          "name": "stdout",
          "text": [
            "Current Total Profit: 67000.0\n",
            "New Total Profit (with 10% sales increase): 73700.0\n",
            "Change in Total Profit: 6700.0\n"
          ]
        }
      ]
    },
    {
      "cell_type": "markdown",
      "source": [
        "## Operational Strategy"
      ],
      "metadata": {
        "id": "zAm3qvMmrmTf"
      }
    },
    {
      "cell_type": "code",
      "metadata": {
        "colab": {
          "base_uri": "https://localhost:8080/"
        },
        "id": "c4962b44",
        "outputId": "d70d8095-3144-4ebd-ac71-9ac9a70edfdd"
      },
      "source": [
        "#26\n",
        "inventory_to_sales_ratio = retail_data[:, 3] / retail_data[:, 1]\n",
        "threshold = np.mean(inventory_to_sales_ratio) * 0.8 # Using 80% of the average as a threshold\n",
        "\n",
        "# Identify stores below the threshold\n",
        "restock_needed_stores_mask = inventory_to_sales_ratio < threshold\n",
        "restock_needed_stores = retail_data[restock_needed_stores_mask]\n",
        "\n",
        "if restock_needed_stores.shape[0] > 0:\n",
        "    print(\"Stores that might need inventory restocking (low inventory-to-sales ratio):\")\n",
        "    print(restock_needed_stores[:, 0])\n",
        "else:\n",
        "    print(\"No stores found that meet the criteria for potential restocking based on the defined threshold.\")"
      ],
      "execution_count": 73,
      "outputs": [
        {
          "output_type": "stream",
          "name": "stdout",
          "text": [
            "No stores found that meet the criteria for potential restocking based on the defined threshold.\n"
          ]
        }
      ]
    },
    {
      "cell_type": "code",
      "source": [
        "#27\n",
        "# Identify stores with a high return rate (above average)\n",
        "average_return_rate = np.mean(return_rates)\n",
        "high_return_rate_stores_mask = return_rates > average_return_rate\n",
        "high_return_rate_stores = retail_data[high_return_rate_stores_mask]\n",
        "\n",
        "if high_return_rate_stores.shape[0] > 0:\n",
        "    print(\"\\nStores with a high return rate (above average) that might require quality checks:\")\n",
        "    print(high_return_rate_stores[:, 0])\n",
        "else:\n",
        "    print(\"No stores found with a return rate above the average.\")"
      ],
      "metadata": {
        "colab": {
          "base_uri": "https://localhost:8080/"
        },
        "id": "ctC2uoGKDeQa",
        "outputId": "5e9e1cd6-65bc-436a-a3ce-26142621c4de"
      },
      "execution_count": 75,
      "outputs": [
        {
          "output_type": "stream",
          "name": "stdout",
          "text": [
            "\n",
            "Stores with a high return rate (above average) that might require quality checks:\n",
            "[2 4 7 8 9]\n"
          ]
        }
      ]
    },
    {
      "cell_type": "code",
      "metadata": {
        "colab": {
          "base_uri": "https://localhost:8080/"
        },
        "id": "9b75f1ea",
        "outputId": "3ce698b0-ca11-4239-bb03-f83bcfeee2f9"
      },
      "source": [
        "# Calculate inventory turnover (using sales / inventory as a proxy)\n",
        "# Handle potential division by zero if any store has zero inventory\n",
        "inventory_turnover = np.where(retail_data[:, 3] != 0, retail_data[:, 1] / retail_data[:, 3], 0)\n",
        "\n",
        "# Rank stores based on Sales (higher is better)\n",
        "sales_rank = np.argsort(np.argsort(retail_data[:, 1])) + 1\n",
        "\n",
        "# Rank stores based on Customers (higher is better)\n",
        "customers_rank = np.argsort(np.argsort(retail_data[:, 2])) + 1\n",
        "\n",
        "# Rank stores based on Inventory Turnover (higher is better)\n",
        "inventory_turnover_rank = np.argsort(np.argsort(inventory_turnover)) + 1\n",
        "\n",
        "# Calculate a composite score by summing the ranks\n",
        "composite_score = sales_rank + customers_rank + inventory_turnover_rank\n",
        "\n",
        "# Find the index of the store with the highest composite score\n",
        "best_performer_index = np.argmax(composite_score)\n",
        "\n",
        "# Get the Store ID of the best performer\n",
        "best_performer_store_id = retail_data[best_performer_index, 0]\n",
        "\n",
        "print(\"Store ID with the highest composite score (Best Performer based on this method):\", best_performer_store_id)\n",
        "print(\"Composite Scores per store:\", composite_score)\n",
        "\n",
        "# Note: This is one method of determining the 'best performer' and can be adjusted based on different weighting or criteria."
      ],
      "execution_count": 76,
      "outputs": [
        {
          "output_type": "stream",
          "name": "stdout",
          "text": [
            "Store ID with the highest composite score (Best Performer based on this method): 4\n",
            "Composite Scores per store: [ 4 15 15 28 21  5 21 14 27 15]\n"
          ]
        }
      ]
    },
    {
      "cell_type": "code",
      "metadata": {
        "colab": {
          "base_uri": "https://localhost:8080/"
        },
        "id": "71c611bc",
        "outputId": "dcdf129f-8898-41c8-9283-c096863ffbdf"
      },
      "source": [
        "# Calculate inventory turnover (using sales / inventory as a proxy)\n",
        "# Handle potential division by zero if any store has zero inventory\n",
        "inventory_turnover = np.where(retail_data[:, 3] != 0, retail_data[:, 1] / retail_data[:, 3], 0)\n",
        "\n",
        "# Rank stores based on Sales (lower is better for worst performer)\n",
        "sales_rank_worst = np.argsort(np.argsort(-retail_data[:, 1])) + 1 # Inverse rank for worst\n",
        "\n",
        "# Rank stores based on Customers (lower is better for worst performer)\n",
        "customers_rank_worst = np.argsort(np.argsort(-retail_data[:, 2])) + 1 # Inverse rank for worst\n",
        "\n",
        "# Rank stores based on Inventory Turnover (lower is better for worst performer)\n",
        "inventory_turnover_rank_worst = np.argsort(np.argsort(-inventory_turnover)) + 1 # Inverse rank for worst\n",
        "\n",
        "# Calculate a composite score by summing the inverse ranks\n",
        "composite_score_worst = sales_rank_worst + customers_rank_worst + inventory_turnover_rank_worst\n",
        "\n",
        "# Find the index of the store with the lowest composite score (using inverse ranks, lowest score is worst)\n",
        "worst_performer_index = np.argmin(composite_score_worst)\n",
        "\n",
        "\n",
        "# Get the Store ID of the worst performer\n",
        "worst_performer_store_id = retail_data[worst_performer_index, 0]\n",
        "\n",
        "print(\"Store ID with the lowest composite score (Worst Performer based on this method):\", worst_performer_store_id)\n",
        "print(\"Composite Scores per store (based on inverse ranks):\", composite_score_worst)\n",
        "\n",
        "# Note: This is one method of determining the 'worst performer' and can be adjusted based on different weighting or criteria."
      ],
      "execution_count": 77,
      "outputs": [
        {
          "output_type": "stream",
          "name": "stdout",
          "text": [
            "Store ID with the lowest composite score (Worst Performer based on this method): 4\n",
            "Composite Scores per store (based on inverse ranks): [29 18 18  5 12 28 12 19  6 18]\n"
          ]
        }
      ]
    },
    {
      "cell_type": "code",
      "source": [],
      "metadata": {
        "id": "kcgNJP5kD6Pw"
      },
      "execution_count": null,
      "outputs": []
    },
    {
      "cell_type": "code",
      "metadata": {
        "colab": {
          "base_uri": "https://localhost:8080/"
        },
        "id": "3c964c59",
        "outputId": "ff98b468-146a-4987-c2b1-6b2bae519290"
      },
      "source": [
        "average_sales = np.mean(retail_data[:, 1])\n",
        "average_customers = np.mean(retail_data[:, 2])\n",
        "\n",
        "expansion_candidates = retail_data[(retail_data[:, 1] > average_sales) & (retail_data[:, 2] > average_customers)]\n",
        "\n",
        "if expansion_candidates.shape[0] > 0:\n",
        "    print(\"Stores that can be considered for expansion (strong sales and customer metrics):\")\n",
        "    print(expansion_candidates[:, 0])\n",
        "else:\n",
        "    print(\"No stores found that meet the criteria for expansion based on average thresholds.\")"
      ],
      "execution_count": 78,
      "outputs": [
        {
          "output_type": "stream",
          "name": "stdout",
          "text": [
            "Stores that can be considered for expansion (strong sales and customer metrics):\n",
            "[4 7 9]\n"
          ]
        }
      ]
    }
  ]
}