{
  "nbformat": 4,
  "nbformat_minor": 0,
  "metadata": {
    "colab": {
      "provenance": []
    },
    "kernelspec": {
      "name": "python3",
      "display_name": "Python 3"
    },
    "language_info": {
      "name": "python"
    }
  },
  "cells": [
    {
      "cell_type": "code",
      "source": [
        "import numpy as np\n",
        "import math"
      ],
      "metadata": {
        "id": "fDdS7Vrqmfn8"
      },
      "execution_count": 4,
      "outputs": []
    },
    {
      "cell_type": "code",
      "execution_count": 5,
      "metadata": {
        "colab": {
          "base_uri": "https://localhost:8080/"
        },
        "id": "LImS8-Hmivbr",
        "outputId": "5bfa62b4-1b4d-450e-f47c-a082de3f560f"
      },
      "outputs": [
        {
          "output_type": "stream",
          "name": "stdout",
          "text": [
            "SOLVED EXAMPLE:\n",
            "Calculate the sum of first 5 even numbers\n",
            "First 5 even numbers: [2, 4, 6, 8, 10]\n",
            "Sum: 30\n",
            "--------------------------------------------------\n"
          ]
        }
      ],
      "source": [
        "print(\"SOLVED EXAMPLE:\")\n",
        "print(\"Calculate the sum of first 5 even numbers\")\n",
        "first_5_even = [2, 4, 6, 8, 10]\n",
        "sum_even = sum(first_5_even)\n",
        "print(f\"First 5 even numbers: {first_5_even}\")\n",
        "print(f\"Sum: {sum_even}\")\n",
        "print(\"-\" * 50)"
      ]
    },
    {
      "cell_type": "markdown",
      "source": [
        "Find the remainder when 156 is divided by 7"
      ],
      "metadata": {
        "id": "I6fGTkozqHNS"
      }
    },
    {
      "cell_type": "code",
      "metadata": {
        "colab": {
          "base_uri": "https://localhost:8080/"
        },
        "id": "1777bfb1",
        "outputId": "8b08177e-2ddb-46e0-8be2-ce53f848d7ce"
      },
      "source": [
        "remainder = 156 % 7\n",
        "print(remainder)"
      ],
      "execution_count": 6,
      "outputs": [
        {
          "output_type": "stream",
          "name": "stdout",
          "text": [
            "2\n"
          ]
        }
      ]
    },
    {
      "cell_type": "markdown",
      "source": [
        "Calculate the square of 25"
      ],
      "metadata": {
        "id": "_RSIL6V0qMTc"
      }
    },
    {
      "cell_type": "code",
      "metadata": {
        "colab": {
          "base_uri": "https://localhost:8080/"
        },
        "id": "bc5c02e0",
        "outputId": "77ae17ec-f6dd-49ce-bae6-210caff4f1c7"
      },
      "source": [
        "x=25\n",
        "square_root_x1 = math.sqrt(x)\n",
        "square_root_x = x ** 0.5\n",
        "print(f\"The square root of {x} is {square_root_x1}\")\n",
        "print(f\"The square root of {x} is {square_root_x}\")"
      ],
      "execution_count": 7,
      "outputs": [
        {
          "output_type": "stream",
          "name": "stdout",
          "text": [
            "The square root of 25 is 5.0\n",
            "The square root of 25 is 5.0\n"
          ]
        }
      ]
    },
    {
      "cell_type": "markdown",
      "source": [
        "Calculate the cude root of 125"
      ],
      "metadata": {
        "id": "GtvKb586qwKm"
      }
    },
    {
      "cell_type": "code",
      "source": [
        "x=125\n",
        "cude_root1=math.cbrt(x)\n",
        "cude_root=x**(1/3)\n",
        "print(f\"The cube root of {x} is {cude_root1}\")\n",
        "print(f\"The cube root of {x} is {cude_root}\")"
      ],
      "metadata": {
        "colab": {
          "base_uri": "https://localhost:8080/"
        },
        "id": "FJFwJnieoGwK",
        "outputId": "4f1f9193-6da6-4963-f51e-7f67422aaf0e"
      },
      "execution_count": 16,
      "outputs": [
        {
          "output_type": "stream",
          "name": "stdout",
          "text": [
            "The cube root of 125 is 5.0\n",
            "The cube root of 125 is 4.999999999999999\n"
          ]
        }
      ]
    },
    {
      "cell_type": "markdown",
      "source": [
        "Factorial of 8"
      ],
      "metadata": {
        "id": "-QmdmyO2q9J3"
      }
    },
    {
      "cell_type": "code",
      "source": [
        "x=8\n",
        "factorial=math.factorial(x)\n",
        "print(f\"The factorial of {x} is {factorial}\")"
      ],
      "metadata": {
        "colab": {
          "base_uri": "https://localhost:8080/"
        },
        "id": "gzws_N4tpqwN",
        "outputId": "c0b9aa23-f5e4-40db-d473-4c0c1c5504d3"
      },
      "execution_count": 9,
      "outputs": [
        {
          "output_type": "stream",
          "name": "stdout",
          "text": [
            "The factorial of 8 is 40320\n"
          ]
        }
      ]
    },
    {
      "cell_type": "markdown",
      "source": [
        "Avrg of numbers 15,23,31,42,56"
      ],
      "metadata": {
        "id": "8nggiRORrQsX"
      }
    },
    {
      "cell_type": "code",
      "source": [
        "x=[15,23,31,42,56]\n",
        "avrg=sum(x)/len(x)\n",
        "avrg1=np.mean(x)\n",
        "print(f\"The average of {x} is {avrg}\")\n",
        "print(avrg1)"
      ],
      "metadata": {
        "colab": {
          "base_uri": "https://localhost:8080/"
        },
        "id": "Y9zg_dl7rZEZ",
        "outputId": "3033927d-c542-4f95-a4f6-c6bf5dc8d2d4"
      },
      "execution_count": 10,
      "outputs": [
        {
          "output_type": "stream",
          "name": "stdout",
          "text": [
            "The average of [15, 23, 31, 42, 56] is 33.4\n",
            "33.4\n"
          ]
        }
      ]
    },
    {
      "cell_type": "markdown",
      "source": [
        "the greatest common divisor (GCD) of 48 and 36"
      ],
      "metadata": {
        "id": "q_PSNT0wsRbT"
      }
    },
    {
      "cell_type": "code",
      "source": [
        "x,y=48,36\n",
        "gdc=math.gcd(x,y)\n",
        "print(f\"The GCD of {x} and {y} is {gdc}\")"
      ],
      "metadata": {
        "colab": {
          "base_uri": "https://localhost:8080/"
        },
        "id": "e-XYZ2EVrsjv",
        "outputId": "8bfae328-ce5e-494d-fbdf-38e3e03c4138"
      },
      "execution_count": 11,
      "outputs": [
        {
          "output_type": "stream",
          "name": "stdout",
          "text": [
            "The GCD of 48 and 36 is 12\n"
          ]
        }
      ]
    },
    {
      "cell_type": "markdown",
      "source": [
        "the sum of first 20 odd numbers"
      ],
      "metadata": {
        "id": "IjUe-YrFsUB8"
      }
    },
    {
      "cell_type": "code",
      "source": [
        "odd_numbers = [2 * i + 1 for i in range(20)]\n",
        "sum_odd = sum(odd_numbers)\n",
        "print(f\"The sum of the first 20 odd numbers is: {sum_odd}\")"
      ],
      "metadata": {
        "colab": {
          "base_uri": "https://localhost:8080/"
        },
        "id": "xMyOE1M9r3mJ",
        "outputId": "4bfdd8f2-01d3-4e88-f292-c5e0e944099a"
      },
      "execution_count": 12,
      "outputs": [
        {
          "output_type": "stream",
          "name": "stdout",
          "text": [
            "The sum of the first 20 odd numbers is: 400\n"
          ]
        }
      ]
    },
    {
      "cell_type": "markdown",
      "source": [
        "the product of first 10 natural numbers"
      ],
      "metadata": {
        "id": "3nlb9gN7tY_r"
      }
    },
    {
      "cell_type": "code",
      "metadata": {
        "colab": {
          "base_uri": "https://localhost:8080/"
        },
        "id": "1b273fed",
        "outputId": "5d7e7de0-410c-42c7-eb9a-b73dfb92ae21"
      },
      "source": [
        "product = 1\n",
        "for i in range(1, 11):\n",
        "    product *= i\n",
        "print(f\"The product of the first 10 natural numbers is: {product}\")"
      ],
      "execution_count": 13,
      "outputs": [
        {
          "output_type": "stream",
          "name": "stdout",
          "text": [
            "The product of the first 10 natural numbers is: 3628800\n"
          ]
        }
      ]
    },
    {
      "cell_type": "markdown",
      "source": [],
      "metadata": {
        "id": "UCcGKBKGud7I"
      }
    },
    {
      "cell_type": "code",
      "metadata": {
        "colab": {
          "base_uri": "https://localhost:8080/"
        },
        "id": "2edcc7bb",
        "outputId": "d1cd8cc7-89c9-42dc-bdc2-ad3b5b557318"
      },
      "source": [
        "number = 12345\n",
        "sum_digits = sum(int(digit) for digit in str(number))\n",
        "print(f\"The sum of the digits in {number} is: {sum_digits}\")"
      ],
      "execution_count": 14,
      "outputs": [
        {
          "output_type": "stream",
          "name": "stdout",
          "text": [
            "The sum of the digits in 12345 is: 15\n"
          ]
        }
      ]
    },
    {
      "cell_type": "code",
      "metadata": {
        "colab": {
          "base_uri": "https://localhost:8080/"
        },
        "id": "acc6e8b4",
        "outputId": "9b9ef46a-d5d2-41d0-96a2-29bdcd139c3a"
      },
      "source": [
        "number = 97\n",
        "is_prime = True\n",
        "if number <= 1:\n",
        "    is_prime = False\n",
        "else:\n",
        "    for i in range(2, int(number**0.5) + 1):\n",
        "        if number % i == 0:\n",
        "            is_prime = False\n",
        "            break\n",
        "\n",
        "if is_prime:\n",
        "    print(f\"{number} is a prime number.\")\n",
        "else:\n",
        "    print(f\"{number} is not a prime number.\")"
      ],
      "execution_count": 15,
      "outputs": [
        {
          "output_type": "stream",
          "name": "stdout",
          "text": [
            "97 is a prime number.\n"
          ]
        }
      ]
    }
  ]
}