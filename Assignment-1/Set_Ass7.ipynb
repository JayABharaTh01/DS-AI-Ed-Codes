{
  "nbformat": 4,
  "nbformat_minor": 0,
  "metadata": {
    "colab": {
      "provenance": []
    },
    "kernelspec": {
      "name": "python3",
      "display_name": "Python 3"
    },
    "language_info": {
      "name": "python"
    }
  },
  "cells": [
    {
      "cell_type": "code",
      "execution_count": 1,
      "metadata": {
        "id": "E0z5wbhzhz1r"
      },
      "outputs": [],
      "source": [
        "import math\n",
        "import numpy as np\n",
        "import re\n",
        "import string\n",
        "from collections import Counter\n",
        "import statistics"
      ]
    },
    {
      "cell_type": "code",
      "source": [
        "print(\"SOLVED EXAMPLE:\")\n",
        "print(\"Find the union of two sets\")\n",
        "set1 = {1, 2, 3, 4, 5}\n",
        "set2 = {4, 5, 6, 7, 8}\n",
        "union_set = set1.union(set2)\n",
        "print(f\"Set 1: {set1}\")\n",
        "print(f\"Set 2: {set2}\")\n",
        "print(f\"Union: {union_set}\")\n",
        "print(\"-\" * 50)"
      ],
      "metadata": {
        "colab": {
          "base_uri": "https://localhost:8080/"
        },
        "id": "NFRHA4V-pv0G",
        "outputId": "65a7a142-ef89-4200-886d-cd2c00331011"
      },
      "execution_count": 26,
      "outputs": [
        {
          "output_type": "stream",
          "name": "stdout",
          "text": [
            "SOLVED EXAMPLE:\n",
            "Find the union of two sets\n",
            "Set 1: {1, 2, 3, 4, 5}\n",
            "Set 2: {4, 5, 6, 7, 8}\n",
            "Union: {1, 2, 3, 4, 5, 6, 7, 8}\n",
            "--------------------------------------------------\n"
          ]
        }
      ]
    },
    {
      "cell_type": "code",
      "source": [
        "#1\n",
        "Set=set(range(1,11))\n",
        "print(Set)"
      ],
      "metadata": {
        "colab": {
          "base_uri": "https://localhost:8080/"
        },
        "id": "pJdgbwfEh_va",
        "outputId": "769438ab-4b28-49bf-c2b6-2dd7fc2b814d"
      },
      "execution_count": 2,
      "outputs": [
        {
          "output_type": "stream",
          "name": "stdout",
          "text": [
            "{1, 2, 3, 4, 5, 6, 7, 8, 9, 10}\n"
          ]
        }
      ]
    },
    {
      "cell_type": "code",
      "source": [
        "#2\n",
        "Set=set(range(1,6))\n",
        "print(Set)\n",
        "Set.add(11)\n",
        "print(Set)"
      ],
      "metadata": {
        "colab": {
          "base_uri": "https://localhost:8080/"
        },
        "id": "0GsGy-9Vh_h-",
        "outputId": "45f3bf3f-c998-4408-9d41-a2df443ffe96"
      },
      "execution_count": 10,
      "outputs": [
        {
          "output_type": "stream",
          "name": "stdout",
          "text": [
            "{1, 2, 3, 4, 5}\n",
            "{1, 2, 3, 4, 5, 11}\n"
          ]
        }
      ]
    },
    {
      "cell_type": "code",
      "source": [
        "#3\n",
        "Set=set(range(1,6))\n",
        "print(Set)\n",
        "Set.remove(3)\n",
        "print(Set)"
      ],
      "metadata": {
        "colab": {
          "base_uri": "https://localhost:8080/"
        },
        "id": "s2VmBVRTh_Ve",
        "outputId": "d128d6f9-4ceb-4af6-edff-e7f461dfdc1a"
      },
      "execution_count": 9,
      "outputs": [
        {
          "output_type": "stream",
          "name": "stdout",
          "text": [
            "{1, 2, 3, 4, 5}\n",
            "{1, 2, 4, 5}\n"
          ]
        }
      ]
    },
    {
      "cell_type": "code",
      "source": [
        "#4\n",
        "Set1=set(range(1,6))\n",
        "print(Set1)\n",
        "Set2=set(range(4,9))\n",
        "print(Set2)\n",
        "\n",
        "Set3=Set1.intersection(Set2)\n",
        "print(Set3)\n",
        "\n",
        "Set4=Set2.intersection(Set1)\n",
        "print(Set4)"
      ],
      "metadata": {
        "colab": {
          "base_uri": "https://localhost:8080/"
        },
        "id": "EgPRqIaVh_JR",
        "outputId": "28e397ff-ec9d-45df-d2ae-127bc0ff1ef9"
      },
      "execution_count": 14,
      "outputs": [
        {
          "output_type": "stream",
          "name": "stdout",
          "text": [
            "{1, 2, 3, 4, 5}\n",
            "{4, 5, 6, 7, 8}\n",
            "{4, 5}\n",
            "{4, 5}\n"
          ]
        }
      ]
    },
    {
      "cell_type": "code",
      "source": [
        "#5\n",
        "Set1=set(range(1,6))\n",
        "print(Set1)\n",
        "Set2=set(range(4,9))\n",
        "print(Set2)\n",
        "\n",
        "Set3=Set1.difference(Set2)\n",
        "print(Set3)\n",
        "\n",
        "Set4=Set2.difference(Set1)\n",
        "print(Set4)"
      ],
      "metadata": {
        "colab": {
          "base_uri": "https://localhost:8080/"
        },
        "id": "SSjkqOxoh-9a",
        "outputId": "1b11d198-8532-406d-e6b6-5a6b0520587c"
      },
      "execution_count": 15,
      "outputs": [
        {
          "output_type": "stream",
          "name": "stdout",
          "text": [
            "{1, 2, 3, 4, 5}\n",
            "{4, 5, 6, 7, 8}\n",
            "{1, 2, 3}\n",
            "{8, 6, 7}\n"
          ]
        }
      ]
    },
    {
      "cell_type": "code",
      "source": [
        "#6\n",
        "Set=set(range(1,11))\n",
        "print(Set)\n",
        "print(5 in Set)"
      ],
      "metadata": {
        "colab": {
          "base_uri": "https://localhost:8080/"
        },
        "id": "0VUe2Obhh-xP",
        "outputId": "ad12ea60-3503-4f50-e04e-8053373184d2"
      },
      "execution_count": 16,
      "outputs": [
        {
          "output_type": "stream",
          "name": "stdout",
          "text": [
            "{1, 2, 3, 4, 5, 6, 7, 8, 9, 10}\n",
            "True\n"
          ]
        }
      ]
    },
    {
      "cell_type": "code",
      "source": [
        "#7\n",
        "Set={'a', 'b', 'c', 'd', 'e'}\n",
        "print(Set)\n",
        "print(len(Set))"
      ],
      "metadata": {
        "colab": {
          "base_uri": "https://localhost:8080/"
        },
        "id": "YCcf8Ce6h-mJ",
        "outputId": "87aa3667-a532-4177-f50f-eaff1c1bc2e7"
      },
      "execution_count": 17,
      "outputs": [
        {
          "output_type": "stream",
          "name": "stdout",
          "text": [
            "{'b', 'd', 'c', 'a', 'e'}\n",
            "5\n"
          ]
        }
      ]
    },
    {
      "cell_type": "code",
      "source": [
        "#8\n",
        "String=\"hello world\"\n",
        "print(String)\n",
        "Set=set(String)\n",
        "print(Set)\n",
        "vowels={'a', 'e', 'i', 'o', 'u'}\n",
        "Set=set(String)&vowels\n",
        "print(Set)\n"
      ],
      "metadata": {
        "colab": {
          "base_uri": "https://localhost:8080/"
        },
        "id": "q8RrDfYTh-as",
        "outputId": "914d0df5-8a74-4027-997a-a1ba1bdce514"
      },
      "execution_count": 21,
      "outputs": [
        {
          "output_type": "stream",
          "name": "stdout",
          "text": [
            "hello world\n",
            "{'r', 'd', 'h', 'l', 'e', 'o', ' ', 'w'}\n",
            "{'o', 'e'}\n"
          ]
        }
      ]
    },
    {
      "cell_type": "code",
      "source": [
        "#9\n",
        "List=[1, 2, 2, 3, 4, 4, 5, 6, 6, 7]\n",
        "Set=set(List)\n",
        "print(Set)"
      ],
      "metadata": {
        "colab": {
          "base_uri": "https://localhost:8080/"
        },
        "id": "xHt1hbn-h-Og",
        "outputId": "bccbe8d2-ce92-42b6-9151-b6e67afb2d48"
      },
      "execution_count": 22,
      "outputs": [
        {
          "output_type": "stream",
          "name": "stdout",
          "text": [
            "{1, 2, 3, 4, 5, 6, 7}\n"
          ]
        }
      ]
    },
    {
      "cell_type": "code",
      "source": [
        "#10\n",
        "set1 = {1, 2, 3}\n",
        "set2 = {1, 2, 3, 4, 5, 6}\n",
        "print(set1,set2)\n",
        "print(set1.issubset(set2))"
      ],
      "metadata": {
        "colab": {
          "base_uri": "https://localhost:8080/"
        },
        "id": "j9G6NM_eh9-d",
        "outputId": "cf3d813d-f4ce-42f5-f605-eb41f10ada0f"
      },
      "execution_count": 25,
      "outputs": [
        {
          "output_type": "stream",
          "name": "stdout",
          "text": [
            "{1, 2, 3} {1, 2, 3, 4, 5, 6}\n",
            "True\n"
          ]
        }
      ]
    }
  ]
}