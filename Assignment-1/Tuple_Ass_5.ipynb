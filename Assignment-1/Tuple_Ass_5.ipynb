{
  "nbformat": 4,
  "nbformat_minor": 0,
  "metadata": {
    "colab": {
      "provenance": []
    },
    "kernelspec": {
      "name": "python3",
      "display_name": "Python 3"
    },
    "language_info": {
      "name": "python"
    }
  },
  "cells": [
    {
      "cell_type": "code",
      "execution_count": 1,
      "metadata": {
        "id": "NMCkDxOed01l"
      },
      "outputs": [],
      "source": [
        "import math\n",
        "import numpy as np\n",
        "import re\n",
        "import string\n",
        "from collections import Counter\n",
        "import statistics"
      ]
    },
    {
      "cell_type": "code",
      "source": [
        "print(\"SOLVED EXAMPLE:\")\n",
        "print(\"Find the sum and product of all elements in a tuple\")\n",
        "numbers = (2, 4, 6, 8, 10)\n",
        "sum_tuple = sum(numbers)\n",
        "product = 1\n",
        "for num in numbers:\n",
        "    product *= num\n",
        "print(f\"Tuple: {numbers}\")\n",
        "print(f\"Sum: {sum_tuple}\")\n",
        "print(f\"Product: {product}\")\n",
        "print(\"-\" * 50)"
      ],
      "metadata": {
        "colab": {
          "base_uri": "https://localhost:8080/"
        },
        "id": "YGKArmytpqPq",
        "outputId": "c82aa405-2be8-4e39-c6b6-278c284a51c0"
      },
      "execution_count": 24,
      "outputs": [
        {
          "output_type": "stream",
          "name": "stdout",
          "text": [
            "SOLVED EXAMPLE:\n",
            "Find the sum and product of all elements in a tuple\n",
            "Tuple: (2, 4, 6, 8, 10)\n",
            "Sum: 30\n",
            "Product: 3840\n",
            "--------------------------------------------------\n"
          ]
        }
      ]
    },
    {
      "cell_type": "code",
      "source": [
        "#1\n",
        "Tupple=tuple(range(1,11))\n",
        "print(Tupple)\n",
        "\n",
        "Tupple1=(1,2,3,4,5,6,7,8,9,10)\n",
        "print(Tupple1)"
      ],
      "metadata": {
        "colab": {
          "base_uri": "https://localhost:8080/"
        },
        "id": "DdtPkZNJegD_",
        "outputId": "cd7db915-dcc7-4a90-fe6c-ebabda76ce89"
      },
      "execution_count": 3,
      "outputs": [
        {
          "output_type": "stream",
          "name": "stdout",
          "text": [
            "(1, 2, 3, 4, 5, 6, 7, 8, 9, 10)\n",
            "(1, 2, 3, 4, 5, 6, 7, 8, 9, 10)\n"
          ]
        }
      ]
    },
    {
      "cell_type": "code",
      "source": [
        "#2\n",
        "Tuple=(1, 2, 3, 4, 5, 6, 7, 8, 9, 10)\n",
        "print(len(Tuple))"
      ],
      "metadata": {
        "colab": {
          "base_uri": "https://localhost:8080/"
        },
        "id": "_3lfN9Tbef4J",
        "outputId": "dee5b69b-a194-4407-b3ce-51fa563f6e29"
      },
      "execution_count": 5,
      "outputs": [
        {
          "output_type": "stream",
          "name": "stdout",
          "text": [
            "10\n"
          ]
        }
      ]
    },
    {
      "cell_type": "code",
      "source": [
        "#3\n",
        "Tuple=('a', 'b', 'c', 'd', 'e')\n",
        "print(Tuple[2])"
      ],
      "metadata": {
        "colab": {
          "base_uri": "https://localhost:8080/"
        },
        "id": "vgGXv696efsW",
        "outputId": "2c61a6ac-433d-46a6-da77-45b5758dd476"
      },
      "execution_count": 6,
      "outputs": [
        {
          "output_type": "stream",
          "name": "stdout",
          "text": [
            "c\n"
          ]
        }
      ]
    },
    {
      "cell_type": "code",
      "source": [
        "#4\n",
        "Tuple=(23, 45, 12, 67, 34, 89, 56)\n",
        "print(max(Tuple))"
      ],
      "metadata": {
        "colab": {
          "base_uri": "https://localhost:8080/"
        },
        "id": "TG8bJnz4efeA",
        "outputId": "7adb9273-8df1-44ae-f3b7-2a659a8b5e63"
      },
      "execution_count": 7,
      "outputs": [
        {
          "output_type": "stream",
          "name": "stdout",
          "text": [
            "89\n"
          ]
        }
      ]
    },
    {
      "cell_type": "code",
      "source": [
        "#5\n",
        "Tuple=(1, 5, 2, 5, 3, 5, 4, 5, 6)\n",
        "print(Tuple.count(5))"
      ],
      "metadata": {
        "colab": {
          "base_uri": "https://localhost:8080/"
        },
        "id": "jjqPsI7MefSX",
        "outputId": "989f1757-ad33-4cf3-f03d-5dad912fba52"
      },
      "execution_count": 8,
      "outputs": [
        {
          "output_type": "stream",
          "name": "stdout",
          "text": [
            "4\n"
          ]
        }
      ]
    },
    {
      "cell_type": "code",
      "source": [
        "#6\n",
        "Tuple=(55,55.99,\"bharath\",True)\n",
        "print(Tuple)"
      ],
      "metadata": {
        "colab": {
          "base_uri": "https://localhost:8080/"
        },
        "id": "qv7zxwwsefGW",
        "outputId": "20b3ea99-1d79-4f7f-d3ff-005791bf8a3b"
      },
      "execution_count": 10,
      "outputs": [
        {
          "output_type": "stream",
          "name": "stdout",
          "text": [
            "(55, 55.99, 'bharath', True)\n"
          ]
        }
      ]
    },
    {
      "cell_type": "code",
      "source": [
        "#7\n",
        "Tuple=('java', 'python', 'c++', 'javascript')\n",
        "print(Tuple.index('python'))"
      ],
      "metadata": {
        "colab": {
          "base_uri": "https://localhost:8080/"
        },
        "id": "DVfTjr3qee7H",
        "outputId": "a64cc2e9-64ce-4e03-ccc8-0c8580ac5fcf"
      },
      "execution_count": 11,
      "outputs": [
        {
          "output_type": "stream",
          "name": "stdout",
          "text": [
            "1\n"
          ]
        }
      ]
    },
    {
      "cell_type": "code",
      "source": [
        "#8\n",
        "Tuple=(10, 20, 30, 40, 50)\n",
        "print(24 in Tuple)"
      ],
      "metadata": {
        "colab": {
          "base_uri": "https://localhost:8080/"
        },
        "id": "GpDuGoI4eeur",
        "outputId": "2faa8ebb-c2ac-4045-80ed-5c47f8597cc1"
      },
      "execution_count": 14,
      "outputs": [
        {
          "output_type": "stream",
          "name": "stdout",
          "text": [
            "False\n"
          ]
        }
      ]
    },
    {
      "cell_type": "code",
      "source": [
        "#9\n",
        "Tupple=tuple(range(2,11,2))\n",
        "print(Tupple)"
      ],
      "metadata": {
        "colab": {
          "base_uri": "https://localhost:8080/"
        },
        "id": "92IRahIgeeil",
        "outputId": "70fea0f9-5fd8-4a34-e00c-ba4fc4f93615"
      },
      "execution_count": 18,
      "outputs": [
        {
          "output_type": "stream",
          "name": "stdout",
          "text": [
            "(2, 4, 6, 8, 10)\n"
          ]
        }
      ]
    },
    {
      "cell_type": "code",
      "source": [
        "#10\n",
        "Tuple=(15, 23, 31, 42, 56, 78)\n",
        "avg=sum(Tuple)/len(Tuple)\n",
        "print(avg)\n",
        "\n",
        "avg1=statistics.mean(Tuple)\n",
        "print(avg1)\n",
        "\n",
        "avg2=math.fsum(Tuple)/len(Tuple)\n",
        "print(avg2)"
      ],
      "metadata": {
        "colab": {
          "base_uri": "https://localhost:8080/"
        },
        "id": "XEOjZYDNeeVF",
        "outputId": "f80efae7-cf6a-4a86-ae92-bca5743df1ec"
      },
      "execution_count": 23,
      "outputs": [
        {
          "output_type": "stream",
          "name": "stdout",
          "text": [
            "40.833333333333336\n",
            "40.833333333333336\n",
            "40.833333333333336\n"
          ]
        }
      ]
    }
  ]
}