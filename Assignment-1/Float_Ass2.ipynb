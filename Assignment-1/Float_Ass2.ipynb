{
  "nbformat": 4,
  "nbformat_minor": 0,
  "metadata": {
    "colab": {
      "provenance": []
    },
    "kernelspec": {
      "name": "python3",
      "display_name": "Python 3"
    },
    "language_info": {
      "name": "python"
    }
  },
  "cells": [
    {
      "cell_type": "code",
      "source": [
        "import math\n",
        "import numpy as np"
      ],
      "metadata": {
        "id": "tJPeJ_mIvrnm"
      },
      "execution_count": 45,
      "outputs": []
    },
    {
      "cell_type": "code",
      "execution_count": 46,
      "metadata": {
        "colab": {
          "base_uri": "https://localhost:8080/"
        },
        "id": "9NCkPMLnvL32",
        "outputId": "c9d34515-23c1-4357-d4c3-5cc82285b09e"
      },
      "outputs": [
        {
          "output_type": "stream",
          "name": "stdout",
          "text": [
            "SOLVED EXAMPLE:\n",
            "Calculate the area of a circle with radius 5.5\n",
            "Radius: 5.5\n",
            "Area: 95.03\n",
            "--------------------------------------------------\n"
          ]
        }
      ],
      "source": [
        "print(\"SOLVED EXAMPLE:\")\n",
        "print(\"Calculate the area of a circle with radius 5.5\")\n",
        "import math\n",
        "radius = 5.5\n",
        "area = math.pi * radius ** 2\n",
        "print(f\"Radius: {radius}\")\n",
        "print(f\"Area: {area:.2f}\")\n",
        "print(\"-\" * 50)"
      ]
    },
    {
      "cell_type": "code",
      "source": [
        "x=[3.14, 2.718, 1.618, 0.577]\n",
        "average=np.mean(x)\n",
        "average1=sum(x)/len(x)\n",
        "print(f\"Average: {average:.3f}\")\n",
        "print(f\"Average: {average1:.3f}\")"
      ],
      "metadata": {
        "colab": {
          "base_uri": "https://localhost:8080/"
        },
        "id": "ClVhUMQmvz8L",
        "outputId": "884fead8-063b-4460-ca16-11be14e72b28"
      },
      "execution_count": 47,
      "outputs": [
        {
          "output_type": "stream",
          "name": "stdout",
          "text": [
            "Average: 2.013\n",
            "Average: 2.013\n"
          ]
        }
      ]
    },
    {
      "cell_type": "code",
      "source": [
        "temp=98.6\n",
        "convert_c_F=((temp*9/5)+32)\n",
        "print(\"convert_c_F:-\",convert_c_F)"
      ],
      "metadata": {
        "colab": {
          "base_uri": "https://localhost:8080/"
        },
        "id": "mjj2QO5PwX3W",
        "outputId": "72ae7b6e-a2b5-4dd6-dd29-60d80e91251e"
      },
      "execution_count": 48,
      "outputs": [
        {
          "output_type": "stream",
          "name": "stdout",
          "text": [
            "convert_c_F:- 209.48\n"
          ]
        }
      ]
    },
    {
      "cell_type": "code",
      "metadata": {
        "colab": {
          "base_uri": "https://localhost:8080/"
        },
        "id": "504c4ce3",
        "outputId": "efabb44d-eb58-442a-b329-64c73c657615"
      },
      "source": [
        "# Define the variables\n",
        "principal = 1000\n",
        "rate = 0.055  # 5.5%\n",
        "time = 3\n",
        "\n",
        "# Calculate the amount using the compound interest formula\n",
        "amount = principal * (1 + rate) ** time\n",
        "\n",
        "# Calculate compound interest\n",
        "compound_interest = amount - principal\n",
        "\n",
        "# Print the result\n",
        "print(f\"Compound Interest: ${compound_interest:.2f}\")"
      ],
      "execution_count": 49,
      "outputs": [
        {
          "output_type": "stream",
          "name": "stdout",
          "text": [
            "Compound Interest: $174.24\n"
          ]
        }
      ]
    },
    {
      "cell_type": "code",
      "source": [
        "radius=7.8\n",
        "pi=22/7\n",
        "\n",
        "volume1=math.pi*radius**3*4/3\n",
        "volume2=(4/3)*pi*radius**3\n",
        "print(\"volume:-\",volume1)\n",
        "print(\"volume:-\",volume2)"
      ],
      "metadata": {
        "colab": {
          "base_uri": "https://localhost:8080/"
        },
        "id": "71I14Pd3zopd",
        "outputId": "a1e9eb6a-2a78-4f14-c618-d784f86ac998"
      },
      "execution_count": 50,
      "outputs": [
        {
          "output_type": "stream",
          "name": "stdout",
          "text": [
            "volume:- 1987.798769261791\n",
            "volume:- 1988.5988571428566\n"
          ]
        }
      ]
    },
    {
      "cell_type": "code",
      "source": [
        "X,Y=3.5,4.2\n",
        "hypotenuse1=math.sqrt(X**2+Y**2)\n",
        "hypotenuse2 = (X**2 + Y**2) ** 0.5\n",
        "print(\"hypotenuse:-\",hypotenuse1)\n",
        "print(\"hypotenuse:-\",hypotenuse2)"
      ],
      "metadata": {
        "colab": {
          "base_uri": "https://localhost:8080/"
        },
        "id": "m-0K4THSzPvN",
        "outputId": "d9b3bcef-c492-4f33-ffee-5b95a10b4c42"
      },
      "execution_count": 51,
      "outputs": [
        {
          "output_type": "stream",
          "name": "stdout",
          "text": [
            "hypotenuse:- 5.4671747731346585\n",
            "hypotenuse:- 5.4671747731346585\n"
          ]
        }
      ]
    },
    {
      "cell_type": "code",
      "source": [
        "x=23.456\n",
        "sqr_x1=math.sqrt(x)\n",
        "sqr_x2 = x ** 0.5\n",
        "print(\"sqr_x:-\",sqr_x1)\n",
        "print(\"sqr_x:-\",sqr_x2)"
      ],
      "metadata": {
        "colab": {
          "base_uri": "https://localhost:8080/"
        },
        "id": "yffB1anf1G7Y",
        "outputId": "1370f210-558b-4bb2-847b-028b60ba8faf"
      },
      "execution_count": 52,
      "outputs": [
        {
          "output_type": "stream",
          "name": "stdout",
          "text": [
            "sqr_x:- 4.843139477652899\n",
            "sqr_x:- 4.843139477652899\n"
          ]
        }
      ]
    },
    {
      "cell_type": "code",
      "source": [
        "principal=2500\n",
        "parcentage=6.5\n",
        "rate=(parcentage/100)\n",
        "#rate=0.065\n",
        "time=2.5\n",
        "simple_interest=(principal*rate*time)/100\n",
        "print(\"simple_interest:-\",simple_interest)"
      ],
      "metadata": {
        "colab": {
          "base_uri": "https://localhost:8080/"
        },
        "id": "BPpC8QbG2rzY",
        "outputId": "b77ef2b1-6739-4327-bab6-8114ecb1d12a"
      },
      "execution_count": 53,
      "outputs": [
        {
          "output_type": "stream",
          "name": "stdout",
          "text": [
            "simple_interest:- 4.0625\n"
          ]
        }
      ]
    },
    {
      "cell_type": "code",
      "source": [
        "deg=45.7\n",
        "#np.radians(deg)\n",
        "radians1=math.radians(deg)\n",
        "radians2=deg*math.pi/180\n",
        "radians3= deg * (22 / 7) / 180\n",
        "print(\"radians:-\",radians1)\n",
        "print(\"radians:-\",radians2)\n",
        "print(\"radians:-\",radians3)"
      ],
      "metadata": {
        "colab": {
          "base_uri": "https://localhost:8080/"
        },
        "id": "8xIB7l-S259l",
        "outputId": "f7540ed3-a7d9-4876-ecc9-1add89b90620"
      },
      "execution_count": 54,
      "outputs": [
        {
          "output_type": "stream",
          "name": "stdout",
          "text": [
            "radians:- 0.7976154681614086\n",
            "radians:- 0.7976154681614086\n",
            "radians:- 0.7979365079365079\n"
          ]
        }
      ]
    },
    {
      "cell_type": "code",
      "source": [
        "x,y=45,67\n",
        "#percentage=math.atan(x/y)\n",
        "#print(\"percentage:-\",percentage)\n",
        "\n",
        "#def percentage(x,y):\n",
        " # return(x*y)/100.0\n",
        "#print(\"percentage:-\",percentage(x,y))\n",
        "\n",
        "def percentage(x,y):\n",
        "    parcentage=100*float(x)/float(y)\n",
        "    return parcentage\n",
        "print(\"percentage:-\",percentage(x,y))"
      ],
      "metadata": {
        "colab": {
          "base_uri": "https://localhost:8080/"
        },
        "id": "l0F_VwQ_46pu",
        "outputId": "401afd08-62c0-4cbb-dea8-740836629b97"
      },
      "execution_count": 55,
      "outputs": [
        {
          "output_type": "stream",
          "name": "stdout",
          "text": [
            "percentage:- 67.16417910447761\n"
          ]
        }
      ]
    },
    {
      "cell_type": "code",
      "source": [
        "x=3.14159\n",
        "round_x=round(x)\n",
        "print(\"round_x:-\",round_x)"
      ],
      "metadata": {
        "colab": {
          "base_uri": "https://localhost:8080/"
        },
        "id": "OStc7VTj5_iR",
        "outputId": "76423988-bd7f-47aa-9256-71e9eba3e3ce"
      },
      "execution_count": 56,
      "outputs": [
        {
          "output_type": "stream",
          "name": "stdout",
          "text": [
            "round_x:- 3\n"
          ]
        }
      ]
    }
  ]
}