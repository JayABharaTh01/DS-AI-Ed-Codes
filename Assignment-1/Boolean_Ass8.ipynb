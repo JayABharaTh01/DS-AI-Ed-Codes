{
  "nbformat": 4,
  "nbformat_minor": 0,
  "metadata": {
    "colab": {
      "provenance": []
    },
    "kernelspec": {
      "name": "python3",
      "display_name": "Python 3"
    },
    "language_info": {
      "name": "python"
    }
  },
  "cells": [
    {
      "cell_type": "code",
      "execution_count": 1,
      "metadata": {
        "id": "OXnExbGJlavg"
      },
      "outputs": [],
      "source": [
        "import math\n",
        "import numpy as np\n",
        "import re\n",
        "import string\n",
        "from collections import Counter\n",
        "import statistics"
      ]
    },
    {
      "cell_type": "code",
      "source": [
        "print(\"SOLVED EXAMPLE:\")\n",
        "print(\"Check if a number is both even and greater than 10\")\n",
        "number = 16\n",
        "is_even = number % 2 == 0\n",
        "is_greater_than_10 = number > 10\n",
        "result = is_even and is_greater_than_10\n",
        "print(f\"Number: {number}\")\n",
        "print(f\"Is even: {is_even}\")\n",
        "print(f\"Is greater than 10: {is_greater_than_10}\")\n",
        "print(f\"Both conditions: {result}\")\n",
        "print(\"-\" * 50)"
      ],
      "metadata": {
        "colab": {
          "base_uri": "https://localhost:8080/"
        },
        "id": "EpH_ynX2l7gn",
        "outputId": "a1f0fc9f-9d4e-4193-c131-e1338913dc07"
      },
      "execution_count": 2,
      "outputs": [
        {
          "output_type": "stream",
          "name": "stdout",
          "text": [
            "SOLVED EXAMPLE:\n",
            "Check if a number is both even and greater than 10\n",
            "Number: 16\n",
            "Is even: True\n",
            "Is greater than 10: True\n",
            "Both conditions: True\n",
            "--------------------------------------------------\n"
          ]
        }
      ]
    },
    {
      "cell_type": "code",
      "source": [
        "#1\n",
        "Num=25\n",
        "print(20<Num<30)"
      ],
      "metadata": {
        "colab": {
          "base_uri": "https://localhost:8080/"
        },
        "id": "vNWnWssWmBwy",
        "outputId": "1a84db91-2669-4f58-8e4a-38e2d400538f"
      },
      "execution_count": 3,
      "outputs": [
        {
          "output_type": "stream",
          "name": "stdout",
          "text": [
            "True\n"
          ]
        }
      ]
    },
    {
      "cell_type": "code",
      "source": [
        "#2\n",
        "String=\"python\"\n",
        "print(String==\"python\")"
      ],
      "metadata": {
        "colab": {
          "base_uri": "https://localhost:8080/"
        },
        "id": "FP1ihpU1mBkr",
        "outputId": "46fd548c-4836-4886-e060-1435013fb03e"
      },
      "execution_count": 4,
      "outputs": [
        {
          "output_type": "stream",
          "name": "stdout",
          "text": [
            "True\n"
          ]
        }
      ]
    },
    {
      "cell_type": "code",
      "source": [
        "#3\n",
        "Num=15\n",
        "S=Num%3==0 and Num%5==0\n",
        "print(S)"
      ],
      "metadata": {
        "colab": {
          "base_uri": "https://localhost:8080/"
        },
        "id": "D8I1cMgcmBZg",
        "outputId": "e3303d7e-9209-443a-efca-2729764db250"
      },
      "execution_count": 9,
      "outputs": [
        {
          "output_type": "stream",
          "name": "stdout",
          "text": [
            "True\n"
          ]
        }
      ]
    },
    {
      "cell_type": "code",
      "source": [
        "#4\n",
        "Num=7\n",
        "s=Num!=8\n",
        "print(s)"
      ],
      "metadata": {
        "colab": {
          "base_uri": "https://localhost:8080/"
        },
        "id": "NhXnUPUHmBNg",
        "outputId": "37632720-cb61-42aa-8465-b82816b3a8ee"
      },
      "execution_count": 10,
      "outputs": [
        {
          "output_type": "stream",
          "name": "stdout",
          "text": [
            "True\n"
          ]
        }
      ]
    },
    {
      "cell_type": "code",
      "source": [
        "#5\n",
        "Num=100\n",
        "s=Num>50 or Num<25\n",
        "print(s)"
      ],
      "metadata": {
        "colab": {
          "base_uri": "https://localhost:8080/"
        },
        "id": "strqpPLymBCE",
        "outputId": "7a444902-c30e-4e52-9a4b-1d2773802d0b"
      },
      "execution_count": 11,
      "outputs": [
        {
          "output_type": "stream",
          "name": "stdout",
          "text": [
            "True\n"
          ]
        }
      ]
    },
    {
      "cell_type": "code",
      "source": [
        "#6\n",
        "Num=0\n",
        "s=bool(Num)==False\n",
        "print(s)"
      ],
      "metadata": {
        "colab": {
          "base_uri": "https://localhost:8080/"
        },
        "id": "KUShkvOqmA1d",
        "outputId": "84131dc9-2290-4ad2-9842-a1474bd3a544"
      },
      "execution_count": 13,
      "outputs": [
        {
          "output_type": "stream",
          "name": "stdout",
          "text": [
            "True\n"
          ]
        }
      ]
    },
    {
      "cell_type": "code",
      "source": [
        "#7\n",
        "Str=\"\"\n",
        "s=bool(Str)==False\n",
        "print(s)"
      ],
      "metadata": {
        "colab": {
          "base_uri": "https://localhost:8080/"
        },
        "id": "IH23IZIgmAew",
        "outputId": "ce698a9c-80e6-40e1-d118-d365761b255a"
      },
      "execution_count": 15,
      "outputs": [
        {
          "output_type": "stream",
          "name": "stdout",
          "text": [
            "True\n"
          ]
        }
      ]
    },
    {
      "cell_type": "code",
      "source": [
        "#8\n",
        "Num=42\n",
        "s=bool(Num)==True\n",
        "print(s)"
      ],
      "metadata": {
        "colab": {
          "base_uri": "https://localhost:8080/"
        },
        "id": "mxy5MoNgmAp1",
        "outputId": "51af6d3b-2ac0-476f-c628-5970cd775c29"
      },
      "execution_count": 14,
      "outputs": [
        {
          "output_type": "stream",
          "name": "stdout",
          "text": [
            "True\n"
          ]
        }
      ]
    },
    {
      "cell_type": "code",
      "source": [
        "#9\n",
        "Num=10\n",
        "s=5<Num<15\n",
        "print(s)"
      ],
      "metadata": {
        "colab": {
          "base_uri": "https://localhost:8080/"
        },
        "id": "gkn__mHXmATp",
        "outputId": "4caa1726-d89e-41e9-eb23-325509323306"
      },
      "execution_count": 17,
      "outputs": [
        {
          "output_type": "stream",
          "name": "stdout",
          "text": [
            "False\n"
          ]
        }
      ]
    },
    {
      "cell_type": "code",
      "source": [
        "#10\n",
        "Num=3.14\n",
        "s=3<Num<4\n",
        "print(s)"
      ],
      "metadata": {
        "colab": {
          "base_uri": "https://localhost:8080/"
        },
        "id": "-5kilH6ymAH1",
        "outputId": "d3003f25-4f63-4d91-db36-719a37718a64"
      },
      "execution_count": 18,
      "outputs": [
        {
          "output_type": "stream",
          "name": "stdout",
          "text": [
            "True\n"
          ]
        }
      ]
    }
  ]
}